{
 "cells": [
  {
   "metadata": {},
   "cell_type": "markdown",
   "source": "## Import das biblitecas ",
   "id": "90d9330abe926947"
  },
  {
   "cell_type": "code",
   "id": "initial_id",
   "metadata": {
    "collapsed": true,
    "ExecuteTime": {
     "end_time": "2024-09-19T02:37:55.247265Z",
     "start_time": "2024-09-19T02:37:55.241957Z"
    }
   },
   "source": [
    "import pandas as pd\n",
    "import smtplib\n",
    "\n",
    "from email.mime.multipart import MIMEMultipart\n",
    "from email.mime.text import MIMEText\n",
    "from email.mime.base import MIMEBase\n",
    "from email import encoders"
   ],
   "outputs": [],
   "execution_count": 115
  },
  {
   "metadata": {},
   "cell_type": "markdown",
   "source": [
    "## Importando o arquivo Excel\n",
    "Adicionei uma coluna chamada Semana"
   ],
   "id": "9e014cef147749f1"
  },
  {
   "metadata": {
    "ExecuteTime": {
     "end_time": "2024-09-19T02:38:11.221625Z",
     "start_time": "2024-09-19T02:37:55.312936Z"
    }
   },
   "cell_type": "code",
   "source": [
    "vendas = pd.read_excel(\"vendas.xlsx\")\n",
    "vendas['Semana'] = vendas['Data'].dt.isocalendar().week"
   ],
   "id": "5832ddd6c77ee665",
   "outputs": [],
   "execution_count": 116
  },
  {
   "metadata": {},
   "cell_type": "markdown",
   "source": "## DataFrame dos gerentes",
   "id": "7f386c8b398c311a"
  },
  {
   "metadata": {
    "ExecuteTime": {
     "end_time": "2024-09-19T02:38:11.228382Z",
     "start_time": "2024-09-19T02:38:11.223641Z"
    }
   },
   "cell_type": "code",
   "source": [
    "gerentes = {\n",
    "    'Login' : ['carlosfsp','gustavasc','jorgelp'],\n",
    "    'Email' : ['carlosfsp@dcc.ufrj.br','gustavasc@dcc.ufrj.br','jorgelp@dcc.ufrj.br'],\n",
    "    'Loja' : ['Shopping Barra', 'Ribeirão Shopping', 'Shopping Recife']\n",
    "}\n",
    "\n",
    "df_gerentes = pd.DataFrame(gerentes)"
   ],
   "id": "75e521e0c68ddb51",
   "outputs": [],
   "execution_count": 117
  },
  {
   "metadata": {
    "ExecuteTime": {
     "end_time": "2024-09-19T02:38:11.247439Z",
     "start_time": "2024-09-19T02:38:11.231025Z"
    }
   },
   "cell_type": "code",
   "source": "df_gerentes.head()",
   "id": "13ecf54a36498f56",
   "outputs": [
    {
     "data": {
      "text/plain": [
       "       Login                  Email               Loja\n",
       "0  carlosfsp  carlosfsp@dcc.ufrj.br     Shopping Barra\n",
       "1  gustavasc  gustavasc@dcc.ufrj.br  Ribeirão Shopping\n",
       "2    jorgelp    jorgelp@dcc.ufrj.br    Shopping Recife"
      ],
      "text/html": [
       "<div>\n",
       "<style scoped>\n",
       "    .dataframe tbody tr th:only-of-type {\n",
       "        vertical-align: middle;\n",
       "    }\n",
       "\n",
       "    .dataframe tbody tr th {\n",
       "        vertical-align: top;\n",
       "    }\n",
       "\n",
       "    .dataframe thead th {\n",
       "        text-align: right;\n",
       "    }\n",
       "</style>\n",
       "<table border=\"1\" class=\"dataframe\">\n",
       "  <thead>\n",
       "    <tr style=\"text-align: right;\">\n",
       "      <th></th>\n",
       "      <th>Login</th>\n",
       "      <th>Email</th>\n",
       "      <th>Loja</th>\n",
       "    </tr>\n",
       "  </thead>\n",
       "  <tbody>\n",
       "    <tr>\n",
       "      <th>0</th>\n",
       "      <td>carlosfsp</td>\n",
       "      <td>carlosfsp@dcc.ufrj.br</td>\n",
       "      <td>Shopping Barra</td>\n",
       "    </tr>\n",
       "    <tr>\n",
       "      <th>1</th>\n",
       "      <td>gustavasc</td>\n",
       "      <td>gustavasc@dcc.ufrj.br</td>\n",
       "      <td>Ribeirão Shopping</td>\n",
       "    </tr>\n",
       "    <tr>\n",
       "      <th>2</th>\n",
       "      <td>jorgelp</td>\n",
       "      <td>jorgelp@dcc.ufrj.br</td>\n",
       "      <td>Shopping Recife</td>\n",
       "    </tr>\n",
       "  </tbody>\n",
       "</table>\n",
       "</div>"
      ]
     },
     "execution_count": 118,
     "metadata": {},
     "output_type": "execute_result"
    }
   ],
   "execution_count": 118
  },
  {
   "metadata": {},
   "cell_type": "markdown",
   "source": [
    "## DataFrame de faturamento\n",
    "Aqui criei um DF de faturamente de todas as lojas, agrupados por semana."
   ],
   "id": "77e72788c6193db2"
  },
  {
   "metadata": {
    "ExecuteTime": {
     "end_time": "2024-09-19T02:50:35.420348Z",
     "start_time": "2024-09-19T02:50:35.391979Z"
    }
   },
   "cell_type": "code",
   "source": [
    "faturamento = vendas.groupby(['ID Loja','Semana']).agg(\n",
    "    faturamento_total = ('Valor Final', 'sum'),\n",
    "    Produto_vendidos = ('Quantidade', 'sum'),\n",
    "    Ticket_medio = ('Valor Unitário', 'median')\n",
    ").reset_index().sort_values(by='Semana', ascending=False)\n",
    "\n",
    "faturamento['faturamento_total'] = faturamento['faturamento_total'].astype(float)"
   ],
   "id": "1429ebf13fd50aad",
   "outputs": [],
   "execution_count": 130
  },
  {
   "metadata": {
    "ExecuteTime": {
     "end_time": "2024-09-19T02:54:25.604437Z",
     "start_time": "2024-09-19T02:54:25.591699Z"
    }
   },
   "cell_type": "code",
   "source": "faturamento.head()",
   "id": "f1f23aa9cb21bbc5",
   "outputs": [
    {
     "data": {
      "text/plain": [
       "                               ID Loja  Semana  faturamento_total  \\\n",
       "1299               Shopping Vila Velha      52            15849.0   \n",
       "1143                   Shopping Recife      52            23082.0   \n",
       "675                  Salvador Shopping      52            23207.0   \n",
       "831   Shopping Center Leste Aricanduva      52            12941.0   \n",
       "415          Parque Dom Pedro Shopping      52            11370.0   \n",
       "\n",
       "      Produto_vendidos  Ticket_medio faturamento_total_BRL Ticket_medio_BRL  \n",
       "1299                94         124.0           R$ 15849.00        R$ 124.00  \n",
       "1143               106         155.0           R$ 23082.00        R$ 155.00  \n",
       "675                107         145.0           R$ 23207.00        R$ 145.00  \n",
       "831                 73         152.0           R$ 12941.00        R$ 152.00  \n",
       "415                 55         116.0           R$ 11370.00        R$ 116.00  "
      ],
      "text/html": [
       "<div>\n",
       "<style scoped>\n",
       "    .dataframe tbody tr th:only-of-type {\n",
       "        vertical-align: middle;\n",
       "    }\n",
       "\n",
       "    .dataframe tbody tr th {\n",
       "        vertical-align: top;\n",
       "    }\n",
       "\n",
       "    .dataframe thead th {\n",
       "        text-align: right;\n",
       "    }\n",
       "</style>\n",
       "<table border=\"1\" class=\"dataframe\">\n",
       "  <thead>\n",
       "    <tr style=\"text-align: right;\">\n",
       "      <th></th>\n",
       "      <th>ID Loja</th>\n",
       "      <th>Semana</th>\n",
       "      <th>faturamento_total</th>\n",
       "      <th>Produto_vendidos</th>\n",
       "      <th>Ticket_medio</th>\n",
       "      <th>faturamento_total_BRL</th>\n",
       "      <th>Ticket_medio_BRL</th>\n",
       "    </tr>\n",
       "  </thead>\n",
       "  <tbody>\n",
       "    <tr>\n",
       "      <th>1299</th>\n",
       "      <td>Shopping Vila Velha</td>\n",
       "      <td>52</td>\n",
       "      <td>15849.0</td>\n",
       "      <td>94</td>\n",
       "      <td>124.0</td>\n",
       "      <td>R$ 15849.00</td>\n",
       "      <td>R$ 124.00</td>\n",
       "    </tr>\n",
       "    <tr>\n",
       "      <th>1143</th>\n",
       "      <td>Shopping Recife</td>\n",
       "      <td>52</td>\n",
       "      <td>23082.0</td>\n",
       "      <td>106</td>\n",
       "      <td>155.0</td>\n",
       "      <td>R$ 23082.00</td>\n",
       "      <td>R$ 155.00</td>\n",
       "    </tr>\n",
       "    <tr>\n",
       "      <th>675</th>\n",
       "      <td>Salvador Shopping</td>\n",
       "      <td>52</td>\n",
       "      <td>23207.0</td>\n",
       "      <td>107</td>\n",
       "      <td>145.0</td>\n",
       "      <td>R$ 23207.00</td>\n",
       "      <td>R$ 145.00</td>\n",
       "    </tr>\n",
       "    <tr>\n",
       "      <th>831</th>\n",
       "      <td>Shopping Center Leste Aricanduva</td>\n",
       "      <td>52</td>\n",
       "      <td>12941.0</td>\n",
       "      <td>73</td>\n",
       "      <td>152.0</td>\n",
       "      <td>R$ 12941.00</td>\n",
       "      <td>R$ 152.00</td>\n",
       "    </tr>\n",
       "    <tr>\n",
       "      <th>415</th>\n",
       "      <td>Parque Dom Pedro Shopping</td>\n",
       "      <td>52</td>\n",
       "      <td>11370.0</td>\n",
       "      <td>55</td>\n",
       "      <td>116.0</td>\n",
       "      <td>R$ 11370.00</td>\n",
       "      <td>R$ 116.00</td>\n",
       "    </tr>\n",
       "  </tbody>\n",
       "</table>\n",
       "</div>"
      ]
     },
     "execution_count": 133,
     "metadata": {},
     "output_type": "execute_result"
    }
   ],
   "execution_count": 133
  },
  {
   "metadata": {},
   "cell_type": "markdown",
   "source": "## Função que escolhe a loja a partir do login do gerente",
   "id": "4c4313e4e1099c08"
  },
  {
   "metadata": {
    "ExecuteTime": {
     "end_time": "2024-09-19T02:38:11.285675Z",
     "start_time": "2024-09-19T02:38:11.281369Z"
    }
   },
   "cell_type": "code",
   "source": [
    "def loja_gerente(login):\n",
    "    dados_login = df_gerentes.loc[df_gerentes['Login'] == login].copy()\n",
    "    \n",
    "    if not dados_login.empty:\n",
    "        loja_id = dados_login['Loja'].values[0]\n",
    "        loja_do_gerente = faturamento.loc[faturamento['ID Loja'] == loja_id].copy()\n",
    "        return loja_do_gerente\n",
    "    else:\n",
    "        raise ValueError(\"Login não encontrado\")\n",
    "    "
   ],
   "id": "d8827b373c873274",
   "outputs": [],
   "execution_count": 120
  },
  {
   "metadata": {},
   "cell_type": "markdown",
   "source": "## Função para formatar colunas em BRL",
   "id": "5ea1ab370a357005"
  },
  {
   "metadata": {
    "ExecuteTime": {
     "end_time": "2024-09-19T02:38:11.292110Z",
     "start_time": "2024-09-19T02:38:11.287738Z"
    }
   },
   "cell_type": "code",
   "source": [
    "def convert_to_currance(value):\n",
    "    return f'R$ {value:.2f}'.replace(',',',')"
   ],
   "id": "43a62e4952e12c85",
   "outputs": [],
   "execution_count": 121
  },
  {
   "metadata": {},
   "cell_type": "markdown",
   "source": "Criando arquivo de faturamento geral",
   "id": "93e56dca2cc883b3"
  },
  {
   "metadata": {
    "ExecuteTime": {
     "end_time": "2024-09-19T02:58:44.984495Z",
     "start_time": "2024-09-19T02:58:44.680769Z"
    }
   },
   "cell_type": "code",
   "source": [
    "faturamento['faturamento_total_BRL'] = faturamento['faturamento_total'].apply(convert_to_currance)\n",
    "faturamento['Ticket_medio_BRL'] = faturamento['Ticket_medio'].apply(convert_to_currance)\n",
    "faturamento.to_excel(f'faturamento_geral.xlsx')"
   ],
   "id": "60bf4aa5a33c72a7",
   "outputs": [],
   "execution_count": 136
  },
  {
   "metadata": {},
   "cell_type": "markdown",
   "source": "## Criando DataFrame da loja pedida pelo gerente",
   "id": "93e152b02de59232"
  },
  {
   "metadata": {
    "ExecuteTime": {
     "end_time": "2024-09-19T02:54:43.235654Z",
     "start_time": "2024-09-19T02:54:36.994982Z"
    }
   },
   "cell_type": "code",
   "source": [
    "login = input(\"Login: \")\n",
    "loja = loja_gerente(login)\n",
    "loja['Ticket_medio_BRL'] = faturamento['Ticket_medio_BRL']\n",
    "loja['faturamento_total_BRL'] = faturamento['faturamento_total_BRL']"
   ],
   "id": "41476e20299ffdd2",
   "outputs": [],
   "execution_count": 134
  },
  {
   "metadata": {
    "ExecuteTime": {
     "end_time": "2024-09-19T02:38:20.275180Z",
     "start_time": "2024-09-19T02:38:20.205346Z"
    }
   },
   "cell_type": "code",
   "source": "loja.to_excel(f'faturamento_loja_do_{login}.xlsx')",
   "id": "ab62a9c3e51ce641",
   "outputs": [],
   "execution_count": 123
  },
  {
   "metadata": {
    "ExecuteTime": {
     "end_time": "2024-09-19T02:54:46.484383Z",
     "start_time": "2024-09-19T02:54:46.472271Z"
    }
   },
   "cell_type": "code",
   "source": "loja.head()",
   "id": "f0a447b05e9cf20c",
   "outputs": [
    {
     "data": {
      "text/plain": [
       "            ID Loja  Semana  faturamento_total  Produto_vendidos  \\\n",
       "727  Shopping Barra      52            10449.0                53   \n",
       "726  Shopping Barra      51            28126.0               137   \n",
       "725  Shopping Barra      50            23691.0               136   \n",
       "724  Shopping Barra      49            36140.0               225   \n",
       "723  Shopping Barra      48            32845.0               143   \n",
       "\n",
       "     Ticket_medio faturamento_total_BRL Ticket_medio_BRL  \n",
       "727         150.0           R$ 10449.00        R$ 150.00  \n",
       "726         181.0           R$ 28126.00        R$ 181.00  \n",
       "725         118.0           R$ 23691.00        R$ 118.00  \n",
       "724         130.0           R$ 36140.00        R$ 130.00  \n",
       "723         177.0           R$ 32845.00        R$ 177.00  "
      ],
      "text/html": [
       "<div>\n",
       "<style scoped>\n",
       "    .dataframe tbody tr th:only-of-type {\n",
       "        vertical-align: middle;\n",
       "    }\n",
       "\n",
       "    .dataframe tbody tr th {\n",
       "        vertical-align: top;\n",
       "    }\n",
       "\n",
       "    .dataframe thead th {\n",
       "        text-align: right;\n",
       "    }\n",
       "</style>\n",
       "<table border=\"1\" class=\"dataframe\">\n",
       "  <thead>\n",
       "    <tr style=\"text-align: right;\">\n",
       "      <th></th>\n",
       "      <th>ID Loja</th>\n",
       "      <th>Semana</th>\n",
       "      <th>faturamento_total</th>\n",
       "      <th>Produto_vendidos</th>\n",
       "      <th>Ticket_medio</th>\n",
       "      <th>faturamento_total_BRL</th>\n",
       "      <th>Ticket_medio_BRL</th>\n",
       "    </tr>\n",
       "  </thead>\n",
       "  <tbody>\n",
       "    <tr>\n",
       "      <th>727</th>\n",
       "      <td>Shopping Barra</td>\n",
       "      <td>52</td>\n",
       "      <td>10449.0</td>\n",
       "      <td>53</td>\n",
       "      <td>150.0</td>\n",
       "      <td>R$ 10449.00</td>\n",
       "      <td>R$ 150.00</td>\n",
       "    </tr>\n",
       "    <tr>\n",
       "      <th>726</th>\n",
       "      <td>Shopping Barra</td>\n",
       "      <td>51</td>\n",
       "      <td>28126.0</td>\n",
       "      <td>137</td>\n",
       "      <td>181.0</td>\n",
       "      <td>R$ 28126.00</td>\n",
       "      <td>R$ 181.00</td>\n",
       "    </tr>\n",
       "    <tr>\n",
       "      <th>725</th>\n",
       "      <td>Shopping Barra</td>\n",
       "      <td>50</td>\n",
       "      <td>23691.0</td>\n",
       "      <td>136</td>\n",
       "      <td>118.0</td>\n",
       "      <td>R$ 23691.00</td>\n",
       "      <td>R$ 118.00</td>\n",
       "    </tr>\n",
       "    <tr>\n",
       "      <th>724</th>\n",
       "      <td>Shopping Barra</td>\n",
       "      <td>49</td>\n",
       "      <td>36140.0</td>\n",
       "      <td>225</td>\n",
       "      <td>130.0</td>\n",
       "      <td>R$ 36140.00</td>\n",
       "      <td>R$ 130.00</td>\n",
       "    </tr>\n",
       "    <tr>\n",
       "      <th>723</th>\n",
       "      <td>Shopping Barra</td>\n",
       "      <td>48</td>\n",
       "      <td>32845.0</td>\n",
       "      <td>143</td>\n",
       "      <td>177.0</td>\n",
       "      <td>R$ 32845.00</td>\n",
       "      <td>R$ 177.00</td>\n",
       "    </tr>\n",
       "  </tbody>\n",
       "</table>\n",
       "</div>"
      ]
     },
     "execution_count": 135,
     "metadata": {},
     "output_type": "execute_result"
    }
   ],
   "execution_count": 135
  },
  {
   "metadata": {},
   "cell_type": "markdown",
   "source": "## Declarando endereções de email",
   "id": "fa5e5bfce6c73bd1"
  },
  {
   "metadata": {
    "ExecuteTime": {
     "end_time": "2024-09-19T03:52:22.134820Z",
     "start_time": "2024-09-19T03:52:22.127311Z"
    }
   },
   "cell_type": "code",
   "source": [
    "nome_loja = df_gerentes.loc[df_gerentes['Login'] == login, 'Loja'].values\n",
    "email_fonte = \"cs134922@gmail.com\"\n",
    "email_destino = df_gerentes.loc[df_gerentes['Login'] == login, 'Email'].values\n",
    "\n",
    "senha_fonte = 'coloque sua senha aqui'"
   ],
   "id": "e7bde9a14b051bdd",
   "outputs": [],
   "execution_count": 160
  },
  {
   "metadata": {},
   "cell_type": "markdown",
   "source": "## Envio de Email para gerentes",
   "id": "39c3a92a98e188d8"
  },
  {
   "metadata": {
    "ExecuteTime": {
     "end_time": "2024-09-19T03:52:35.618600Z",
     "start_time": "2024-09-19T03:52:35.609121Z"
    }
   },
   "cell_type": "code",
   "source": [
    "def enviar_email_gerente(nome_loja, email_destino, email_fonte, senha_fonte):\n",
    "    print(f'Você escolheu enviar o relatório para {login} ')\n",
    "    \n",
    "    # Verificar se existem resultados para nome_loja e email_destino\n",
    "    if len(nome_loja) > 0 and len(email_destino) > 0:\n",
    "        nome_loja = nome_loja[0]  # Obter o primeiro valor de nome_loja\n",
    "        email_destino = email_destino[0]  # Obter o primeiro valor de email_destino\n",
    "        \n",
    "        try:\n",
    "            msg = MIMEMultipart()\n",
    "            \n",
    "            msg['From'] = email_fonte\n",
    "            msg['To'] = email_destino\n",
    "            msg['Subject'] = f'Relatório da loja {nome_loja}'\n",
    "            \n",
    "            body = f\"\\nSegue em Anexo o relatório de vendas da loja {nome_loja}.\\n\\n\"\n",
    "            msg.attach(MIMEText(body, 'plain'))\n",
    "            \n",
    "            # Nome do arquivo de anexo\n",
    "            filename = f'faturamento_loja_do_{login}.xlsx'\n",
    "            attachment = open(filename, 'rb')\n",
    "            \n",
    "            part = MIMEBase('application', 'octet-stream')\n",
    "            part.set_payload(attachment.read())\n",
    "            encoders.encode_base64(part)\n",
    "            part.add_header('Content-Disposition', f'attachment; filename={filename}')\n",
    "            \n",
    "            msg.attach(part)\n",
    "            attachment.close()\n",
    "            \n",
    "            # Conectar ao servidor de email\n",
    "            server = smtplib.SMTP('smtp.gmail.com', 587)\n",
    "            server.starttls()\n",
    "            \n",
    "            # Login no servidor (troque 'SUA_SENHA_AQUI' pela senha correta)\n",
    "            server.login(email_fonte, f'{senha_fonte}')\n",
    "            \n",
    "            # Enviar email\n",
    "            text = msg.as_string()\n",
    "            server.sendmail(email_fonte, email_destino, text)\n",
    "            server.quit()\n",
    "            \n",
    "            print(\"Email enviado com sucesso!\")\n",
    "        \n",
    "        except Exception as e:\n",
    "            print(f\"\\nErro ao enviar email: {e}\")\n",
    "    else:\n",
    "        print(\"Login não encontrado ou sem email associado.\")"
   ],
   "id": "82f56aaf5bf4eedf",
   "outputs": [],
   "execution_count": 161
  },
  {
   "metadata": {},
   "cell_type": "markdown",
   "source": "## Envio de email para Diretoria",
   "id": "621be4cc48a9ac81"
  },
  {
   "metadata": {
    "ExecuteTime": {
     "end_time": "2024-09-19T03:52:37.379397Z",
     "start_time": "2024-09-19T03:52:37.371477Z"
    }
   },
   "cell_type": "code",
   "source": [
    "def enviar_email_diretoria(email_destino, email_fonte, senha_fonte):\n",
    "        print(\"Você escolheu enviar o relatório geral para a diretoria.\")\n",
    "        \n",
    "        email_destino = email_destino[0]  # Obter o primeiro valor de email_destino\n",
    "        \n",
    "        try:\n",
    "            msg = MIMEMultipart()\n",
    "            \n",
    "            msg['From'] = email_fonte\n",
    "            msg['To'] = email_destino\n",
    "            msg['Subject'] = f'Relatório Geral de Vendas'\n",
    "            \n",
    "            body = \"\\nSegue em Anexo o relatório geral de vendas.\\n\\n\"\n",
    "            msg.attach(MIMEText(body, 'plain'))\n",
    "            \n",
    "            # Nome do arquivo de anexo\n",
    "            filename = \"faturamento_geral.xlsx\"\n",
    "            attachment = open(filename, 'rb')\n",
    "            \n",
    "            part = MIMEBase('application', 'octet-stream')\n",
    "            part.set_payload(attachment.read())\n",
    "            encoders.encode_base64(part)\n",
    "            part.add_header('Content-Disposition', f'attachment; filename={filename}')\n",
    "            \n",
    "            msg.attach(part)\n",
    "            attachment.close()\n",
    "            \n",
    "            # Conectar ao servidor de email\n",
    "            server = smtplib.SMTP('smtp.gmail.com', 587)\n",
    "            server.starttls()\n",
    "            \n",
    "            # Login no servidor (troque 'SUA_SENHA_AQUI' pela senha correta)\n",
    "            server.login(email_fonte, f'{senha_fonte}')\n",
    "            \n",
    "            # Enviar email\n",
    "            text = msg.as_string()\n",
    "            server.sendmail(email_fonte, email_destino, text)\n",
    "            server.quit()\n",
    "            \n",
    "            print(\"Email enviado com sucesso!\")\n",
    "        \n",
    "        except Exception as e:\n",
    "            print(f\"\\nErro ao enviar email: {e}\")"
   ],
   "id": "a1408dfb8198f479",
   "outputs": [],
   "execution_count": 162
  },
  {
   "metadata": {},
   "cell_type": "markdown",
   "source": "## Menu para escolher qual envio fazer",
   "id": "a3aef505ebb2d927"
  },
  {
   "metadata": {
    "ExecuteTime": {
     "end_time": "2024-09-19T03:52:39.857157Z",
     "start_time": "2024-09-19T03:52:39.848559Z"
    }
   },
   "cell_type": "code",
   "source": [
    "def menu():    \n",
    "    while True:\n",
    "        print(\"\\nMenu:\")\n",
    "        print(\"1. Executar enviar_email_gerente\")\n",
    "        print(\"2. Executar enviar_email_diretoria\")\n",
    "        print(\"0. Sair\")\n",
    "        \n",
    "        opcao = input(\"Escolha uma opção: \\n\"\n",
    "                      \"1 - enviar_email_gerente\\n\"\n",
    "                      \"2 - enviar_email_diretoria\\n\"\n",
    "                      \"0 - Sair\\n\")\n",
    "\n",
    "        if opcao == '1':\n",
    "            enviar_email_gerente(nome_loja, email_destino, email_fonte, senha_fonte)\n",
    "        elif opcao == '2':\n",
    "            enviar_email_diretoria(email_destino, email_fonte, senha_fonte)\n",
    "        elif opcao == '0':\n",
    "            print(\"Saindo do programa.\")\n",
    "            break\n",
    "        else:\n",
    "            print(\"Opção inválida. Tente novamente.\")"
   ],
   "id": "905af70c0c1a5ed6",
   "outputs": [],
   "execution_count": 163
  },
  {
   "metadata": {
    "ExecuteTime": {
     "end_time": "2024-09-19T03:52:45.323598Z",
     "start_time": "2024-09-19T03:52:40.569104Z"
    }
   },
   "cell_type": "code",
   "source": "menu()",
   "id": "f9177b263631e80a",
   "outputs": [
    {
     "name": "stdout",
     "output_type": "stream",
     "text": [
      "\n",
      "Menu:\n",
      "1. Executar enviar_email_gerente\n",
      "2. Executar enviar_email_diretoria\n",
      "0. Sair\n",
      "Você escolheu enviar o relatório para carlosfsp \n",
      "\n",
      "Erro ao enviar email: (535, b'5.7.8 Username and Password not accepted. For more information, go to\\n5.7.8  https://support.google.com/mail/?p=BadCredentials d2e1a72fcca58-71944bc7bb5sm7416427b3a.207 - gsmtp')\n",
      "\n",
      "Menu:\n",
      "1. Executar enviar_email_gerente\n",
      "2. Executar enviar_email_diretoria\n",
      "0. Sair\n",
      "Saindo do programa.\n"
     ]
    }
   ],
   "execution_count": 164
  },
  {
   "metadata": {},
   "cell_type": "code",
   "outputs": [],
   "execution_count": null,
   "source": "",
   "id": "22530ffc05d03175"
  }
 ],
 "metadata": {
  "kernelspec": {
   "display_name": "Python 3",
   "language": "python",
   "name": "python3"
  },
  "language_info": {
   "codemirror_mode": {
    "name": "ipython",
    "version": 2
   },
   "file_extension": ".py",
   "mimetype": "text/x-python",
   "name": "python",
   "nbconvert_exporter": "python",
   "pygments_lexer": "ipython2",
   "version": "2.7.6"
  }
 },
 "nbformat": 4,
 "nbformat_minor": 5
}
